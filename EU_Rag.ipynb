{
 "cells": [
  {
   "cell_type": "markdown",
   "id": "e3766bd3-3cab-487d-9c14-7196c2056a49",
   "metadata": {},
   "source": [
    "# Setup "
   ]
  },
  {
   "cell_type": "code",
   "execution_count": 1,
   "id": "08dd9a3d-19a2-4c4c-b016-478407050c86",
   "metadata": {},
   "outputs": [],
   "source": [
    "# Requirements:\n",
    "# pip install openai langchain psycopg2-binary sqlalchemy google-generativeai voyageai"
   ]
  },
  {
   "cell_type": "code",
   "execution_count": 81,
   "id": "c5d76d3f-6009-4193-baa6-94527ba511b7",
   "metadata": {},
   "outputs": [],
   "source": [
    "voyage_api_key = \"\" \n",
    "gemini_api_key = \"\"\n"
   ]
  },
  {
   "cell_type": "code",
   "execution_count": 3,
   "id": "d2148f51-0846-4880-bce7-866c8ea31bf7",
   "metadata": {},
   "outputs": [
    {
     "name": "stdout",
     "output_type": "stream",
     "text": [
      "Connected to PostgreSQL!\n"
     ]
    }
   ],
   "source": [
    "import psycopg2\n",
    "\n",
    "# Replace `mysecretpassword` with the password you set in the Docker command\n",
    "conn = psycopg2.connect(\n",
    "    dbname=\"postgres\",       # Default database name\n",
    "    user=\"postgres\",         # Default user\n",
    "    password=\"mysecretpassword\",  # Password from the Docker setup\n",
    "    host=\"localhost\",        # PostgreSQL is hosted locally\n",
    "    port=\"5432\"              # Default PostgreSQL port\n",
    ")\n",
    "\n",
    "# Test connection\n",
    "try:\n",
    "    print(\"Connected to PostgreSQL!\")\n",
    "except Exception as e:\n",
    "    print(f\"Error: {e}\")\n"
   ]
  },
  {
   "cell_type": "markdown",
   "id": "6e957d62-2670-4319-b10c-ea7ee5f3f024",
   "metadata": {},
   "source": [
    "# Split data into chunks"
   ]
  },
  {
   "cell_type": "code",
   "execution_count": 4,
   "id": "66a41f76-a4c8-451d-8bf4-b61c28e6b323",
   "metadata": {},
   "outputs": [
    {
     "name": "stdout",
     "output_type": "stream",
     "text": [
      "Loaded 654850 characters from the file.\n"
     ]
    }
   ],
   "source": [
    "# Step 1: Load the EU AI Act text\n",
    "def load_text(file_path):\n",
    "    with open(file_path, 'r', encoding='utf-8') as file:\n",
    "        return file.read()\n",
    "\n",
    "# Example usage\n",
    "file_path = \"act.md\"  # Update with the path to your file\n",
    "eu_ai_act_text = load_text(file_path)\n",
    "print(f\"Loaded {len(eu_ai_act_text)} characters from the file.\")\n"
   ]
  },
  {
   "cell_type": "code",
   "execution_count": 6,
   "id": "e9191d2c-555b-4d58-94b4-dc9adc8d2471",
   "metadata": {},
   "outputs": [
    {
     "name": "stdout",
     "output_type": "stream",
     "text": [
      "Split into 525 chunks.\n"
     ]
    }
   ],
   "source": [
    "import re\n",
    "\n",
    "# Step 2: Split text into manageable chunks\n",
    "def split_text(text, max_words=200):\n",
    "    # Split text into paragraphs\n",
    "    paragraphs = re.split(r'\\n+', text)\n",
    "    chunks = []\n",
    "    current_chunk = []\n",
    "    current_word_count = 0\n",
    "\n",
    "    for paragraph in paragraphs:\n",
    "        words = paragraph.split()\n",
    "        if current_word_count + len(words) > max_words:\n",
    "            # Start a new chunk if the limit is exceeded\n",
    "            chunks.append(\" \".join(current_chunk))\n",
    "            current_chunk = []\n",
    "            current_word_count = 0\n",
    "        current_chunk.append(paragraph)\n",
    "        current_word_count += len(words)\n",
    "\n",
    "    if current_chunk:\n",
    "        chunks.append(\" \".join(current_chunk))  # Add the last chunk\n",
    "\n",
    "    return chunks\n",
    "\n",
    "# Example usage\n",
    "chunks = split_text(eu_ai_act_text)\n",
    "print(f\"Split into {len(chunks)} chunks.\")"
   ]
  },
  {
   "cell_type": "markdown",
   "id": "5519bc22-6730-47e1-9032-84ffa1968bec",
   "metadata": {},
   "source": [
    "# Embed Data"
   ]
  },
  {
   "cell_type": "code",
   "execution_count": 26,
   "id": "75f1d517-d87a-472e-a279-ebc9796b6d3b",
   "metadata": {},
   "outputs": [],
   "source": [
    "import voyageai \n",
    "\n",
    "vo = voyageai.Client(voyage_api_key)\n",
    "\n",
    "def generate_embedding(chunk, model=\"voyage-3\"):\n",
    "    documents_embeddings = vo.embed(\n",
    "        chunk, model=\"voyage-3\", input_type=\"document\"\n",
    "        ).embeddings\n",
    "    return documents_embeddings"
   ]
  },
  {
   "cell_type": "code",
   "execution_count": 27,
   "id": "5382dcb8-ad83-41e4-9477-1f1241235d91",
   "metadata": {},
   "outputs": [
    {
     "name": "stdout",
     "output_type": "stream",
     "text": [
      "Prepared 525 chunks with embeddings.\n"
     ]
    }
   ],
   "source": [
    "import requests\n",
    "\n",
    "# found that I couldn't use the batch format without hitting rate limits, so tried this and it worked\n",
    "def prepare_data(chunks, api_key):\n",
    "    data = []\n",
    "    for chunk in chunks:\n",
    "        embedding = generate_embedding(chunk)\n",
    "        data.append({\"text\": chunk, \"embedding\": embedding})\n",
    "    return data\n",
    "\n",
    "# Example usage\n",
    "data = prepare_data(chunks, voyage_api_key)\n",
    "print(f\"Prepared {len(data)} chunks with embeddings.\")"
   ]
  },
  {
   "cell_type": "markdown",
   "id": "6c5c5301-f043-4720-88cd-d76c86c14e31",
   "metadata": {},
   "source": [
    "# Insert into database"
   ]
  },
  {
   "cell_type": "code",
   "execution_count": 86,
   "id": "e14636b1-f65e-4758-bdf0-14401b8d2091",
   "metadata": {},
   "outputs": [
    {
     "name": "stdout",
     "output_type": "stream",
     "text": [
      "Data inserted into the database successfully.\n"
     ]
    }
   ],
   "source": [
    "import psycopg2\n",
    "from psycopg2.extras import execute_batch\n",
    "\n",
    "def insert_into_db(data, conn_params):\n",
    "    conn = psycopg2.connect(**conn_params)\n",
    "    cur = conn.cursor()\n",
    "    \n",
    "    # Create table\n",
    "    cur.execute(\"\"\"\n",
    "    CREATE TABLE embeddings_data (\n",
    "        id SERIAL PRIMARY KEY,\n",
    "        text TEXT,\n",
    "        embedding VECTOR(1024)\n",
    "    )\n",
    "    \"\"\")\n",
    "    conn.commit()\n",
    "\n",
    "    for d in data:\n",
    "        cur.execute(\"INSERT INTO embeddings_data (text, embedding) VALUES (%s, %s)\", (d[\"text\"], d[\"embedding\"][0]))\n",
    "        conn.commit()\n",
    "\n",
    "db_params = {\n",
    "    \"dbname\": \"postgres\",\n",
    "    \"user\": \"postgres\",\n",
    "    \"password\": \"mysecretpassword\",\n",
    "    \"host\": \"localhost\",\n",
    "    \"port\": 5432\n",
    "}\n",
    "insert_into_db(data, db_params)\n",
    "print(\"Data inserted into the database successfully.\")\n",
    "\n"
   ]
  },
  {
   "cell_type": "markdown",
   "id": "f1047d5d-7f79-49bf-8a81-31711634b7bb",
   "metadata": {},
   "source": [
    "# Chatbot Interface"
   ]
  },
  {
   "cell_type": "code",
   "execution_count": 91,
   "id": "972846fe-e123-4bb9-b692-90562ffeed50",
   "metadata": {},
   "outputs": [],
   "source": [
    "def query_embeddings(query_vector):\n",
    "    # Perform similarity search\n",
    "    cur = conn.cursor()\n",
    "\n",
    "    cur.execute(\"SELECT text FROM embeddings_data ORDER BY embedding <-> %s::vector LIMIT 5\", (query_vector))\n",
    "    results = cur.fetchall()\n",
    "    return results\n"
   ]
  },
  {
   "cell_type": "code",
   "execution_count": 84,
   "id": "b73fecc2-3c90-44c0-8e79-98288df4dff1",
   "metadata": {},
   "outputs": [],
   "source": [
    "import google.generativeai as genai\n",
    "\n",
    "genai.configure(api_key=gemini_api_key)\n",
    "\n",
    "# Query Gemini Flash using the genai package\n",
    "def query_gemini_flash(context, query, api_key=gemini_api_key):\n",
    "    # Initialize the generative model\n",
    "    model = genai.GenerativeModel(\"gemini-1.5-flash\")\n",
    "\n",
    "    # Prepare the prompt combining context and query\n",
    "    prompt = f\"Based on the information: {context}\\n\\n Generate a response of: {query}\"\n",
    "    print(\"Prompt: \" + prompt)\n",
    "\n",
    "    # Generate the response from the model\n",
    "    response = model.generate_content(prompt)\n",
    "    \n",
    "    return response.text"
   ]
  },
  {
   "cell_type": "code",
   "execution_count": null,
   "id": "c2a87609-b207-4890-9f33-361ecdd0e3b1",
   "metadata": {},
   "outputs": [
    {
     "name": "stdout",
     "output_type": "stream",
     "text": [
      "Welcome to the EU AI Act Chatbot!\n"
     ]
    },
    {
     "name": "stdin",
     "output_type": "stream",
     "text": [
      "\n",
      "Ask a question (or type 'exit' to quit):  What information should the EU declaration of conformity contain?\n"
     ]
    },
    {
     "name": "stdout",
     "output_type": "stream",
     "text": [
      "Prompt: Based on the information:         * [article 29 - Application of …](https://eur-lex.europa.eu/legal-content/EN/TXT/HTML/?uri=OJ:L_202401689#art_29)         * [article 30 - Notification …](https://eur-lex.europa.eu/legal-content/EN/TXT/HTML/?uri=OJ:L_202401689#art_30)         * [article 31 - Requirements …](https://eur-lex.europa.eu/legal-content/EN/TXT/HTML/?uri=OJ:L_202401689#art_31)         * [article 32 - Presumption of …](https://eur-lex.europa.eu/legal-content/EN/TXT/HTML/?uri=OJ:L_202401689#art_32)         * [article 33 - Subsidiaries of …](https://eur-lex.europa.eu/legal-content/EN/TXT/HTML/?uri=OJ:L_202401689#art_33)         * [article 34 - Operational …](https://eur-lex.europa.eu/legal-content/EN/TXT/HTML/?uri=OJ:L_202401689#art_34)         * [article 35 - Identification …](https://eur-lex.europa.eu/legal-content/EN/TXT/HTML/?uri=OJ:L_202401689#art_35)         * [article 36 - Changes to …](https://eur-lex.europa.eu/legal-content/EN/TXT/HTML/?uri=OJ:L_202401689#art_36)         * [article 37 - Challenge to the …](https://eur-lex.europa.eu/legal-content/EN/TXT/HTML/?uri=OJ:L_202401689#art_37)         * [article 38 - Coordination of …](https://eur-lex.europa.eu/legal-content/EN/TXT/HTML/?uri=OJ:L_202401689#art_38)         * [article 39 - Conformity …](https://eur-lex.europa.eu/legal-content/EN/TXT/HTML/?uri=OJ:L_202401689#art_39)       * [ __section 5 - Standards, …](https://eur-lex.europa.eu/legal-content/EN/TXT/HTML/?uri=OJ:L_202401689#cpt_III.sct_5)         * [article 40 - Harmonised …](https://eur-lex.europa.eu/legal-content/EN/TXT/HTML/?uri=OJ:L_202401689#art_40)         * [article 41 - Common …](https://eur-lex.europa.eu/legal-content/EN/TXT/HTML/?uri=OJ:L_202401689#art_41)         * [article 42 - Presumption of …](https://eur-lex.europa.eu/legal-content/EN/TXT/HTML/?uri=OJ:L_202401689#art_42)         * [article 43 - Conformity …](https://eur-lex.europa.eu/legal-content/EN/TXT/HTML/?uri=OJ:L_202401689#art_43)         * [article 44 - Certificates](https://eur-lex.europa.eu/legal-content/EN/TXT/HTML/?uri=OJ:L_202401689#art_44)         * [article 45 - Information …](https://eur-lex.europa.eu/legal-content/EN/TXT/HTML/?uri=OJ:L_202401689#art_45)         * [article 46 - Derogation from …](https://eur-lex.europa.eu/legal-content/EN/TXT/HTML/?uri=OJ:L_202401689#art_46)         * [article 47 - EU declaration of …](https://eur-lex.europa.eu/legal-content/EN/TXT/HTML/?uri=OJ:L_202401689#art_47)         * [article 48 - CE marking](https://eur-lex.europa.eu/legal-content/EN/TXT/HTML/?uri=OJ:L_202401689#art_48)         * [article 49 - Registration](https://eur-lex.europa.eu/legal-content/EN/TXT/HTML/?uri=OJ:L_202401689#art_49)     * [ __chapter IV - TRANSPARENCY …](https://eur-lex.europa.eu/legal-content/EN/TXT/HTML/?uri=OJ:L_202401689#cpt_IV)       * [article 50 - Transparency …](https://eur-lex.europa.eu/legal-content/EN/TXT/HTML/?uri=OJ:L_202401689#art_50)     * [ __chapter V - GENERAL-PURPOSE AI …](https://eur-lex.europa.eu/legal-content/EN/TXT/HTML/?uri=OJ:L_202401689#cpt_V)       * [ __section 1 - Classification rules](https://eur-lex.europa.eu/legal-content/EN/TXT/HTML/?uri=OJ:L_202401689#cpt_V.sct_1)         * [article 51 - Classification of …](https://eur-lex.europa.eu/legal-content/EN/TXT/HTML/?uri=OJ:L_202401689#art_51)         * [article 52 - Procedure](https://eur-lex.europa.eu/legal-content/EN/TXT/HTML/?uri=OJ:L_202401689#art_52)       * [ __section 2 - Obligations for …](https://eur-lex.europa.eu/legal-content/EN/TXT/HTML/?uri=OJ:L_202401689#cpt_V.sct_2)         * [article 53 - Obligations for …](https://eur-lex.europa.eu/legal-content/EN/TXT/HTML/?uri=OJ:L_202401689#art_53) Council Decision 93/465/EEC ([OJ L 218, 13.8.2008, p. 82](https://eur- lex.europa.eu/legal-content/EN/AUTO/?uri=OJ:L:2008:218:TOC)). [(9)](https://eur-lex.europa.eu/legal- content/EN/TXT/HTML/?uri=OJ:L_202401689#ntc9-L_202401689EN.000101-E0009) Regulation (EU) 2019/1020 of the European Parliament and of the Council of 20 June 2019 on market surveillance and compliance of products and amending Directive 2004/42/EC and Regulations (EC) No 765/2008 and (EU) No 305/2011 ([OJ L 169, 25.6.2019, p. 1](https://eur-lex.europa.eu/legal- content/EN/AUTO/?uri=OJ:L:2019:169:TOC)). [(10)](https://eur-lex.europa.eu/legal- content/EN/TXT/HTML/?uri=OJ:L_202401689#ntc10-L_202401689EN.000101-E0010) Council Directive 85/374/EEC of 25 July 1985 on the approximation of the laws, regulations and administrative provisions of the Member States concerning liability for defective products ([OJ L 210, 7.8.1985, p. 29](https://eur- lex.europa.eu/legal-content/EN/AUTO/?uri=OJ:L:1985:210:TOC)). [(11)](https://eur-lex.europa.eu/legal- content/EN/TXT/HTML/?uri=OJ:L_202401689#ntc11-L_202401689EN.000101-E0011) Regulation (EU) 2016/679 of the European Parliament and of the Council of 27 April 2016 on the protection of natural persons with regard to the processing of personal data and on the free movement of such data, and repealing Directive 95/46/EC (General Data Protection Regulation) ([OJ L 119, 4.5.2016, p. 1](https://eur-lex.europa.eu/legal- content/EN/AUTO/?uri=OJ:L:2016:119:TOC)). [(12)](https://eur-lex.europa.eu/legal- content/EN/TXT/HTML/?uri=OJ:L_202401689#ntc12-L_202401689EN.000101-E0012) Regulation (EU) 2018/1725 of the European Parliament and of the Council of 23 October 2018 on the protection of natural persons with regard to the processing of personal data by the Union institutions, bodies, offices and agencies and on the free movement of such data, and repealing Regulation (EC) 2.   The EU declaration of conformity shall state that the high-risk AI system concerned meets the requirements set out in Section 2\\. The EU declaration of conformity shall contain the information set out in Annex V, and shall be translated into a language that can be easily understood by the national competent authorities of the Member States in which the high-risk AI system is placed on the market or made available. 3.   Where high-risk AI systems are subject to other Union harmonisation legislation which also requires an EU declaration of conformity, a single EU declaration of conformity shall be drawn up in respect of all Union law applicable to the high-risk AI system. The declaration shall contain all the information required to identify the Union harmonisation legislation to which the declaration relates. 4.   By drawing up the EU declaration of conformity, the provider shall assume responsibility for compliance with the requirements set out in Section 2\\. The provider shall keep the EU declaration of conformity up-to-date as appropriate. 1.   High-risk AI systems or general-purpose AI models which are in conformity with harmonised standards or parts thereof the references of which have been published in the Official Journal of the European Union in accordance with Regulation (EU) No 1025/2012 shall be presumed to be in conformity with the requirements set out in Section 2 of this Chapter or, as applicable, with the obligations set out in of Chapter V, Sections 2 and 3, of this Regulation, to the extent that those standards cover those requirements or obligations. April 2017 on in vitro diagnostic medical devices and repealing Directive 98/79/EC and Commission Decision 2010/227/EU ([OJ L 117, 5.5.2017, p. 176](https://eur-lex.europa.eu/legal-content/EN/AUTO/?uri=OJ:L:2017:117:TOC)). [(23)](https://eur-lex.europa.eu/legal- content/EN/TXT/HTML/?uri=OJ:L_202401689#ntc23-L_202401689EN.000101-E0023) Directive 2006/42/EC of the European Parliament and of the Council of 17 May 2006 on machinery, and amending Directive 95/16/EC ([OJ L 157, 9.6.2006, p. 24](https://eur-lex.europa.eu/legal-content/EN/AUTO/?uri=OJ:L:2006:157:TOC)). [(24)](https://eur-lex.europa.eu/legal- content/EN/TXT/HTML/?uri=OJ:L_202401689#ntc24-L_202401689EN.000101-E0024) Regulation (EC) No 300/2008 of the European Parliament and of the Council of 11 March 2008 on common rules in the field of civil aviation security and repealing Regulation (EC) No 2320/2002 ([OJ L 97, 9.4.2008, p. 72](https://eur-lex.europa.eu/legal-content/EN/AUTO/?uri=OJ:L:2008:097:TOC)). [(25)](https://eur-lex.europa.eu/legal- content/EN/TXT/HTML/?uri=OJ:L_202401689#ntc25-L_202401689EN.000101-E0025) Regulation (EU) No 167/2013 of the European Parliament and of the Council of 5 February 2013 on the approval and market surveillance of agricultural and forestry vehicles ([OJ L 60, 2.3.2013, p. 1](https://eur-lex.europa.eu/legal- content/EN/AUTO/?uri=OJ:L:2013:060:TOC)). [(26)](https://eur-lex.europa.eu/legal- content/EN/TXT/HTML/?uri=OJ:L_202401689#ntc26-L_202401689EN.000101-E0026) Regulation (EU) No 168/2013 of the European Parliament and of the Council of 15 January 2013 on the approval and market surveillance of two- or three-wheel vehicles and quadricycles ([OJ L 60, 2.3.2013, p. 52](https://eur- lex.europa.eu/legal-content/EN/AUTO/?uri=OJ:L:2013:060:TOC)). [(27)](https://eur-lex.europa.eu/legal- content/EN/TXT/HTML/?uri=OJ:L_202401689#ntc27-L_202401689EN.000101-E0027) Directive 2014/90/EU of the European Parliament and of the Council of 23 July 2014 on marine equipment and repealing Council Directive 96/98/EC ([OJ L 257, 28.8.2014, p. 146](https://eur-lex.europa.eu/legal- content/EN/AUTO/?uri=OJ:L:2014:257:TOC)). [(28)](https://eur-lex.europa.eu/legal- content/EN/TXT/HTML/?uri=OJ:L_202401689#ntc28-L_202401689EN.000101-E0028)\n",
      "\n",
      " Generate a response of: What information should the EU declaration of conformity contain?\n",
      "\n",
      "Answer: Based on the provided text (article 47, point 2), the EU declaration of conformity for high-risk AI systems must contain the information set out in Annex V.  The text also specifies that it should be translated into a language easily understood by the national competent authorities of the Member States where the system is placed on the market or made available.\n",
      "\n"
     ]
    }
   ],
   "source": [
    "def chatbot():\n",
    "    print(\"Welcome to the EU AI Act Chatbot!\")\n",
    "    while True:\n",
    "        question = input(\"\\nAsk a question (or type 'exit' to quit): \")\n",
    "        if question.lower() == \"exit\":\n",
    "            print(\"Goodbye!\")\n",
    "            break\n",
    "        \n",
    "        # Generate embedding for the question\n",
    "        question_vector = generate_embedding(question)\n",
    "        \n",
    "        # Retrieve relevant sections\n",
    "        results = query_embeddings(question_vector)\n",
    "        context = \" \".join([row[0] for row in results])\n",
    "        \n",
    "        # Generate and display response\n",
    "        answer = query_gemini_flash(context, question)\n",
    "        print(f\"\\nAnswer: {answer}\")\n",
    "\n",
    "# Run the chatbot\n",
    "chatbot()\n"
   ]
  },
  {
   "cell_type": "markdown",
   "id": "227919fc-9028-48a0-8e91-4e9ff9908d36",
   "metadata": {},
   "source": [
    "Sample questions:\n",
    "\n",
    "What information should the EU declaration of conformity contain?\n",
    "What parts of the EU AI act are concerned with video recording?"
   ]
  },
  {
   "cell_type": "code",
   "execution_count": null,
   "id": "9c35e71f-14d2-4c54-8db9-1b24039f7837",
   "metadata": {},
   "outputs": [],
   "source": []
  }
 ],
 "metadata": {
  "kernelspec": {
   "display_name": "Python 3 (ipykernel)",
   "language": "python",
   "name": "python3"
  },
  "language_info": {
   "codemirror_mode": {
    "name": "ipython",
    "version": 3
   },
   "file_extension": ".py",
   "mimetype": "text/x-python",
   "name": "python",
   "nbconvert_exporter": "python",
   "pygments_lexer": "ipython3",
   "version": "3.12.2"
  }
 },
 "nbformat": 4,
 "nbformat_minor": 5
}
